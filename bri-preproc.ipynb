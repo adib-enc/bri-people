{
 "cells": [
  {
   "cell_type": "code",
   "execution_count": null,
   "metadata": {},
   "outputs": [],
   "source": [
    "#translator for preproccessing\n",
    "\"\"\"\n",
    "cachievement_target_1\n",
    "sol: regex & comparison\n",
    "\n",
    "1. remove data with null column data\n",
    "\n",
    "2. standardization\n",
    "['achiev_50%-100%' \n",
    "'achiev_100%-150%' \n",
    "'achiev_< 50%' \n",
    "'achiev_> 1.5' nan\n",
    " 'Tidak diberikan target' \n",
    " 'Pencapaian 50%-100%' \n",
    " 'Pencapaian 100%-150%'\n",
    " 'Pencapaian < 50%' 'Pencapaian > 1.5']\n",
    "\n",
    "cachievement_target_2\n",
    "['achiev_< 50%' 'achiev_50%-100%' 'achiev_> 1.5' 'achiev_100%-150%' nan\n",
    " 'Tidak diberikan target' 'Pencapaian 100%-150%' 'Pencapaian < 50%'\n",
    " 'Pencapaian 50%-100%' 'Pencapaian > 1.5']\n",
    "\n",
    "cachievement_target_2\n",
    "sol: regex re.sub(\"not_reached\", \"not reached\")\n",
    "['reached' 'not_reached' nan 'not reached']\n",
    "\n",
    "3. normalization\n",
    "\n",
    "\"\"\"\n"
   ]
  }
 ],
 "metadata": {
  "kernelspec": {
   "display_name": "Python 3",
   "language": "python",
   "name": "python3"
  },
  "language_info": {
   "codemirror_mode": {
    "name": "ipython",
    "version": 3
   },
   "file_extension": ".py",
   "mimetype": "text/x-python",
   "name": "python",
   "nbconvert_exporter": "python",
   "pygments_lexer": "ipython3",
   "version": "3.8.5"
  }
 },
 "nbformat": 4,
 "nbformat_minor": 4
}
